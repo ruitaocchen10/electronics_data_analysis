{
 "cells": [
  {
   "cell_type": "markdown",
   "id": "936b649f",
   "metadata": {},
   "source": [
    "# Exploratory Data Analysis"
   ]
  },
  {
   "cell_type": "code",
   "execution_count": 26,
   "id": "2533f73d",
   "metadata": {},
   "outputs": [
    {
     "data": {
      "text/html": [
       "<div>\n",
       "<style scoped>\n",
       "    .dataframe tbody tr th:only-of-type {\n",
       "        vertical-align: middle;\n",
       "    }\n",
       "\n",
       "    .dataframe tbody tr th {\n",
       "        vertical-align: top;\n",
       "    }\n",
       "\n",
       "    .dataframe thead th {\n",
       "        text-align: right;\n",
       "    }\n",
       "</style>\n",
       "<table border=\"1\" class=\"dataframe\">\n",
       "  <thead>\n",
       "    <tr style=\"text-align: right;\">\n",
       "      <th></th>\n",
       "      <th>item_id</th>\n",
       "      <th>user_id</th>\n",
       "      <th>rating</th>\n",
       "      <th>timestamp</th>\n",
       "      <th>model_attr</th>\n",
       "      <th>category</th>\n",
       "      <th>brand</th>\n",
       "      <th>year</th>\n",
       "      <th>user_attr</th>\n",
       "      <th>split</th>\n",
       "    </tr>\n",
       "  </thead>\n",
       "  <tbody>\n",
       "    <tr>\n",
       "      <th>0</th>\n",
       "      <td>0</td>\n",
       "      <td>0</td>\n",
       "      <td>5.0</td>\n",
       "      <td>1999-06-13</td>\n",
       "      <td>Female</td>\n",
       "      <td>Portable Audio &amp; Video</td>\n",
       "      <td>NaN</td>\n",
       "      <td>1999</td>\n",
       "      <td>NaN</td>\n",
       "      <td>0</td>\n",
       "    </tr>\n",
       "    <tr>\n",
       "      <th>1</th>\n",
       "      <td>0</td>\n",
       "      <td>1</td>\n",
       "      <td>5.0</td>\n",
       "      <td>1999-06-14</td>\n",
       "      <td>Female</td>\n",
       "      <td>Portable Audio &amp; Video</td>\n",
       "      <td>NaN</td>\n",
       "      <td>1999</td>\n",
       "      <td>NaN</td>\n",
       "      <td>0</td>\n",
       "    </tr>\n",
       "    <tr>\n",
       "      <th>2</th>\n",
       "      <td>0</td>\n",
       "      <td>2</td>\n",
       "      <td>3.0</td>\n",
       "      <td>1999-06-17</td>\n",
       "      <td>Female</td>\n",
       "      <td>Portable Audio &amp; Video</td>\n",
       "      <td>NaN</td>\n",
       "      <td>1999</td>\n",
       "      <td>NaN</td>\n",
       "      <td>0</td>\n",
       "    </tr>\n",
       "    <tr>\n",
       "      <th>3</th>\n",
       "      <td>0</td>\n",
       "      <td>3</td>\n",
       "      <td>1.0</td>\n",
       "      <td>1999-07-01</td>\n",
       "      <td>Female</td>\n",
       "      <td>Portable Audio &amp; Video</td>\n",
       "      <td>NaN</td>\n",
       "      <td>1999</td>\n",
       "      <td>NaN</td>\n",
       "      <td>0</td>\n",
       "    </tr>\n",
       "    <tr>\n",
       "      <th>4</th>\n",
       "      <td>0</td>\n",
       "      <td>4</td>\n",
       "      <td>2.0</td>\n",
       "      <td>1999-07-06</td>\n",
       "      <td>Female</td>\n",
       "      <td>Portable Audio &amp; Video</td>\n",
       "      <td>NaN</td>\n",
       "      <td>1999</td>\n",
       "      <td>NaN</td>\n",
       "      <td>0</td>\n",
       "    </tr>\n",
       "  </tbody>\n",
       "</table>\n",
       "</div>"
      ],
      "text/plain": [
       "   item_id  user_id  rating   timestamp model_attr                category  \\\n",
       "0        0        0     5.0  1999-06-13     Female  Portable Audio & Video   \n",
       "1        0        1     5.0  1999-06-14     Female  Portable Audio & Video   \n",
       "2        0        2     3.0  1999-06-17     Female  Portable Audio & Video   \n",
       "3        0        3     1.0  1999-07-01     Female  Portable Audio & Video   \n",
       "4        0        4     2.0  1999-07-06     Female  Portable Audio & Video   \n",
       "\n",
       "  brand  year user_attr  split  \n",
       "0   NaN  1999       NaN      0  \n",
       "1   NaN  1999       NaN      0  \n",
       "2   NaN  1999       NaN      0  \n",
       "3   NaN  1999       NaN      0  \n",
       "4   NaN  1999       NaN      0  "
      ]
     },
     "execution_count": 26,
     "metadata": {},
     "output_type": "execute_result"
    }
   ],
   "source": [
    "# import libraries\n",
    "\n",
    "import pandas as pd # data analysis library\n",
    "import numpy as np # mathy library\n",
    "import matplotlib as plt # plotting library\n",
    "import seaborn as sns # statistical data visualization library\n",
    "\n",
    "data = pd.read_csv('/Users/ruitao/electronics_sales_analysis/data/processed/electronics_cleaned.csv') # read data from csv file\n",
    "\n",
    "data.head() # display first 5 rows of the dataframe"
   ]
  },
  {
   "cell_type": "code",
   "execution_count": 3,
   "id": "cd376234",
   "metadata": {},
   "outputs": [
    {
     "data": {
      "text/html": [
       "<div>\n",
       "<style scoped>\n",
       "    .dataframe tbody tr th:only-of-type {\n",
       "        vertical-align: middle;\n",
       "    }\n",
       "\n",
       "    .dataframe tbody tr th {\n",
       "        vertical-align: top;\n",
       "    }\n",
       "\n",
       "    .dataframe thead th {\n",
       "        text-align: right;\n",
       "    }\n",
       "</style>\n",
       "<table border=\"1\" class=\"dataframe\">\n",
       "  <thead>\n",
       "    <tr style=\"text-align: right;\">\n",
       "      <th></th>\n",
       "      <th>item_id</th>\n",
       "      <th>user_id</th>\n",
       "      <th>rating</th>\n",
       "      <th>timestamp</th>\n",
       "      <th>model_attr</th>\n",
       "      <th>category</th>\n",
       "      <th>brand</th>\n",
       "      <th>year</th>\n",
       "      <th>user_attr</th>\n",
       "      <th>split</th>\n",
       "    </tr>\n",
       "  </thead>\n",
       "  <tbody>\n",
       "    <tr>\n",
       "      <th>1292949</th>\n",
       "      <td>8332</td>\n",
       "      <td>1090033</td>\n",
       "      <td>5.0</td>\n",
       "      <td>2018-01-09</td>\n",
       "      <td>Female</td>\n",
       "      <td>Computers &amp; Accessories</td>\n",
       "      <td>IRULU</td>\n",
       "      <td>2015</td>\n",
       "      <td>NaN</td>\n",
       "      <td>0</td>\n",
       "    </tr>\n",
       "    <tr>\n",
       "      <th>1292950</th>\n",
       "      <td>8332</td>\n",
       "      <td>1105316</td>\n",
       "      <td>1.0</td>\n",
       "      <td>2018-02-17</td>\n",
       "      <td>Female</td>\n",
       "      <td>Computers &amp; Accessories</td>\n",
       "      <td>IRULU</td>\n",
       "      <td>2015</td>\n",
       "      <td>NaN</td>\n",
       "      <td>0</td>\n",
       "    </tr>\n",
       "    <tr>\n",
       "      <th>1292951</th>\n",
       "      <td>6983</td>\n",
       "      <td>1105318</td>\n",
       "      <td>4.0</td>\n",
       "      <td>2018-02-17</td>\n",
       "      <td>Female</td>\n",
       "      <td>Computers &amp; Accessories</td>\n",
       "      <td>IRULU</td>\n",
       "      <td>2015</td>\n",
       "      <td>NaN</td>\n",
       "      <td>0</td>\n",
       "    </tr>\n",
       "    <tr>\n",
       "      <th>1292952</th>\n",
       "      <td>8332</td>\n",
       "      <td>1143213</td>\n",
       "      <td>5.0</td>\n",
       "      <td>2018-06-14</td>\n",
       "      <td>Female</td>\n",
       "      <td>Computers &amp; Accessories</td>\n",
       "      <td>IRULU</td>\n",
       "      <td>2015</td>\n",
       "      <td>NaN</td>\n",
       "      <td>0</td>\n",
       "    </tr>\n",
       "    <tr>\n",
       "      <th>1292953</th>\n",
       "      <td>8332</td>\n",
       "      <td>1153024</td>\n",
       "      <td>1.0</td>\n",
       "      <td>2018-07-27</td>\n",
       "      <td>Female</td>\n",
       "      <td>Computers &amp; Accessories</td>\n",
       "      <td>IRULU</td>\n",
       "      <td>2015</td>\n",
       "      <td>NaN</td>\n",
       "      <td>0</td>\n",
       "    </tr>\n",
       "  </tbody>\n",
       "</table>\n",
       "</div>"
      ],
      "text/plain": [
       "         item_id  user_id  rating   timestamp model_attr  \\\n",
       "1292949     8332  1090033     5.0  2018-01-09     Female   \n",
       "1292950     8332  1105316     1.0  2018-02-17     Female   \n",
       "1292951     6983  1105318     4.0  2018-02-17     Female   \n",
       "1292952     8332  1143213     5.0  2018-06-14     Female   \n",
       "1292953     8332  1153024     1.0  2018-07-27     Female   \n",
       "\n",
       "                        category  brand  year user_attr  split  \n",
       "1292949  Computers & Accessories  IRULU  2015       NaN      0  \n",
       "1292950  Computers & Accessories  IRULU  2015       NaN      0  \n",
       "1292951  Computers & Accessories  IRULU  2015       NaN      0  \n",
       "1292952  Computers & Accessories  IRULU  2015       NaN      0  \n",
       "1292953  Computers & Accessories  IRULU  2015       NaN      0  "
      ]
     },
     "execution_count": 3,
     "metadata": {},
     "output_type": "execute_result"
    }
   ],
   "source": [
    "data.tail() # display last 5 rows of the dataframe"
   ]
  },
  {
   "cell_type": "code",
   "execution_count": null,
   "id": "f8924c0e",
   "metadata": {},
   "outputs": [
    {
     "name": "stdout",
     "output_type": "stream",
     "text": [
      "(1292954, 10)\n",
      "<class 'pandas.core.frame.DataFrame'>\n",
      "RangeIndex: 1292954 entries, 0 to 1292953\n",
      "Data columns (total 10 columns):\n",
      " #   Column      Non-Null Count    Dtype  \n",
      "---  ------      --------------    -----  \n",
      " 0   item_id     1292954 non-null  int64  \n",
      " 1   user_id     1292954 non-null  int64  \n",
      " 2   rating      1292954 non-null  float64\n",
      " 3   timestamp   1292954 non-null  object \n",
      " 4   model_attr  1292954 non-null  object \n",
      " 5   category    1292954 non-null  object \n",
      " 6   brand       331120 non-null   object \n",
      " 7   year        1292954 non-null  int64  \n",
      " 8   user_attr   174124 non-null   object \n",
      " 9   split       1292954 non-null  int64  \n",
      "dtypes: float64(1), int64(4), object(5)\n",
      "memory usage: 98.6+ MB\n"
     ]
    },
    {
     "data": {
      "text/html": [
       "<div>\n",
       "<style scoped>\n",
       "    .dataframe tbody tr th:only-of-type {\n",
       "        vertical-align: middle;\n",
       "    }\n",
       "\n",
       "    .dataframe tbody tr th {\n",
       "        vertical-align: top;\n",
       "    }\n",
       "\n",
       "    .dataframe thead th {\n",
       "        text-align: right;\n",
       "    }\n",
       "</style>\n",
       "<table border=\"1\" class=\"dataframe\">\n",
       "  <thead>\n",
       "    <tr style=\"text-align: right;\">\n",
       "      <th></th>\n",
       "      <th>item_id</th>\n",
       "      <th>user_id</th>\n",
       "      <th>rating</th>\n",
       "      <th>year</th>\n",
       "      <th>split</th>\n",
       "    </tr>\n",
       "  </thead>\n",
       "  <tbody>\n",
       "    <tr>\n",
       "      <th>count</th>\n",
       "      <td>1.292954e+06</td>\n",
       "      <td>1.292954e+06</td>\n",
       "      <td>1.292954e+06</td>\n",
       "      <td>1.292954e+06</td>\n",
       "      <td>1.292954e+06</td>\n",
       "    </tr>\n",
       "    <tr>\n",
       "      <th>mean</th>\n",
       "      <td>4.183588e+03</td>\n",
       "      <td>5.605127e+05</td>\n",
       "      <td>4.051482e+00</td>\n",
       "      <td>2.012938e+03</td>\n",
       "      <td>1.747587e-01</td>\n",
       "    </tr>\n",
       "    <tr>\n",
       "      <th>std</th>\n",
       "      <td>2.525346e+03</td>\n",
       "      <td>3.342374e+05</td>\n",
       "      <td>1.379732e+00</td>\n",
       "      <td>2.643513e+00</td>\n",
       "      <td>5.506810e-01</td>\n",
       "    </tr>\n",
       "    <tr>\n",
       "      <th>min</th>\n",
       "      <td>0.000000e+00</td>\n",
       "      <td>0.000000e+00</td>\n",
       "      <td>1.000000e+00</td>\n",
       "      <td>1.999000e+03</td>\n",
       "      <td>0.000000e+00</td>\n",
       "    </tr>\n",
       "    <tr>\n",
       "      <th>25%</th>\n",
       "      <td>2.018000e+03</td>\n",
       "      <td>2.697482e+05</td>\n",
       "      <td>4.000000e+00</td>\n",
       "      <td>2.012000e+03</td>\n",
       "      <td>0.000000e+00</td>\n",
       "    </tr>\n",
       "    <tr>\n",
       "      <th>50%</th>\n",
       "      <td>3.930000e+03</td>\n",
       "      <td>5.518920e+05</td>\n",
       "      <td>5.000000e+00</td>\n",
       "      <td>2.014000e+03</td>\n",
       "      <td>0.000000e+00</td>\n",
       "    </tr>\n",
       "    <tr>\n",
       "      <th>75%</th>\n",
       "      <td>6.289000e+03</td>\n",
       "      <td>8.474858e+05</td>\n",
       "      <td>5.000000e+00</td>\n",
       "      <td>2.015000e+03</td>\n",
       "      <td>0.000000e+00</td>\n",
       "    </tr>\n",
       "    <tr>\n",
       "      <th>max</th>\n",
       "      <td>9.559000e+03</td>\n",
       "      <td>1.157632e+06</td>\n",
       "      <td>5.000000e+00</td>\n",
       "      <td>2.018000e+03</td>\n",
       "      <td>2.000000e+00</td>\n",
       "    </tr>\n",
       "  </tbody>\n",
       "</table>\n",
       "</div>"
      ],
      "text/plain": [
       "            item_id       user_id        rating          year         split\n",
       "count  1.292954e+06  1.292954e+06  1.292954e+06  1.292954e+06  1.292954e+06\n",
       "mean   4.183588e+03  5.605127e+05  4.051482e+00  2.012938e+03  1.747587e-01\n",
       "std    2.525346e+03  3.342374e+05  1.379732e+00  2.643513e+00  5.506810e-01\n",
       "min    0.000000e+00  0.000000e+00  1.000000e+00  1.999000e+03  0.000000e+00\n",
       "25%    2.018000e+03  2.697482e+05  4.000000e+00  2.012000e+03  0.000000e+00\n",
       "50%    3.930000e+03  5.518920e+05  5.000000e+00  2.014000e+03  0.000000e+00\n",
       "75%    6.289000e+03  8.474858e+05  5.000000e+00  2.015000e+03  0.000000e+00\n",
       "max    9.559000e+03  1.157632e+06  5.000000e+00  2.018000e+03  2.000000e+00"
      ]
     },
     "execution_count": 6,
     "metadata": {},
     "output_type": "execute_result"
    }
   ],
   "source": [
    "shape = data.shape \n",
    "print(shape) # shape\n",
    "data.info() # info types\n",
    "data.describe()"
   ]
  },
  {
   "cell_type": "code",
   "execution_count": 11,
   "id": "657077ec",
   "metadata": {},
   "outputs": [
    {
     "data": {
      "text/plain": [
       "item_id          9560\n",
       "user_id       1157633\n",
       "rating              5\n",
       "timestamp        6354\n",
       "model_attr          3\n",
       "category           10\n",
       "brand              49\n",
       "year               20\n",
       "user_attr           2\n",
       "split               3\n",
       "dtype: int64"
      ]
     },
     "execution_count": 11,
     "metadata": {},
     "output_type": "execute_result"
    }
   ],
   "source": [
    "data.nunique() # number of unique values in each column\n"
   ]
  },
  {
   "cell_type": "code",
   "execution_count": null,
   "id": "6555f0d4",
   "metadata": {},
   "outputs": [
    {
     "data": {
      "text/plain": [
       "np.int64(0)"
      ]
     },
     "execution_count": 12,
     "metadata": {},
     "output_type": "execute_result"
    }
   ],
   "source": [
    "data.duplicated().sum() # checking again for duplicated values"
   ]
  },
  {
   "cell_type": "code",
   "execution_count": 18,
   "id": "34c738c7",
   "metadata": {},
   "outputs": [
    {
     "data": {
      "text/plain": [
       "rating\n",
       "5.0    755755\n",
       "4.0    214166\n",
       "1.0    143755\n",
       "3.0    100630\n",
       "2.0     78648\n",
       "Name: count, dtype: int64"
      ]
     },
     "execution_count": 18,
     "metadata": {},
     "output_type": "execute_result"
    }
   ],
   "source": [
    "# the distribution of ratings\n",
    "\n",
    "data['rating'].value_counts()"
   ]
  },
  {
   "cell_type": "code",
   "execution_count": null,
   "id": "270769a0",
   "metadata": {},
   "outputs": [
    {
     "data": {
      "text/plain": [
       "year bought\n",
       "1999        47\n",
       "2000       187\n",
       "2001       403\n",
       "2002       481\n",
       "2003       833\n",
       "2004      1275\n",
       "2005      2170\n",
       "2006      2614\n",
       "2007      6798\n",
       "2008      9428\n",
       "2009     12804\n",
       "2010     16888\n",
       "2011     23894\n",
       "2012     38389\n",
       "2013     99855\n",
       "2014    180676\n",
       "2015    320887\n",
       "2016    302619\n",
       "2017    192477\n",
       "2018     80229\n",
       "Name: count, dtype: int64"
      ]
     },
     "execution_count": 21,
     "metadata": {},
     "output_type": "execute_result"
    }
   ],
   "source": [
    "# creating new column for year bought\n",
    "# distribution of sales by year\n",
    "\n",
    "data['year bought'] = pd.DatetimeIndex(data['timestamp']).year\n",
    "data['year bought'].value_counts().sort_index()"
   ]
  },
  {
   "cell_type": "code",
   "execution_count": 20,
   "id": "e26d7405",
   "metadata": {},
   "outputs": [
    {
     "data": {
      "text/plain": [
       "month bought\n",
       "1     140773\n",
       "2     110546\n",
       "3     116464\n",
       "4      99136\n",
       "5      98207\n",
       "6      96317\n",
       "7     107612\n",
       "8     109835\n",
       "9      97368\n",
       "10     95084\n",
       "11     97015\n",
       "12    124597\n",
       "Name: count, dtype: int64"
      ]
     },
     "execution_count": 20,
     "metadata": {},
     "output_type": "execute_result"
    }
   ],
   "source": [
    "# distribution of sales by month\n",
    "\n",
    "data['month bought'] = pd.DatetimeIndex(data['timestamp']).month\n",
    "data['month bought'].value_counts().sort_index()\n"
   ]
  },
  {
   "cell_type": "markdown",
   "id": "ba38fd07",
   "metadata": {},
   "source": [
    "# Visualizations"
   ]
  },
  {
   "cell_type": "code",
   "execution_count": null,
   "id": "49e52135",
   "metadata": {},
   "outputs": [
    {
     "data": {
      "text/plain": [
       "<Axes: xlabel='rating', ylabel='count'>"
      ]
     },
     "execution_count": 27,
     "metadata": {},
     "output_type": "execute_result"
    },
    {
     "data": {
      "image/png": "[encoded data removed]",
      "text/plain": [
       "<Figure size 640x480 with 1 Axes>"
      ]
     },
     "metadata": {},
     "output_type": "display_data"
    }
   ],
   "source": [
    "# rating distribution\n",
    "\n",
    "sns.countplot(x='rating', data=data)"
   ]
  },
  {
   "cell_type": "code",
   "execution_count": null,
   "id": "7f49acfe",
   "metadata": {},
   "outputs": [
    {
     "data": {
      "text/plain": [
       "<Axes: xlabel='year', ylabel='count'>"
      ]
     },
     "execution_count": 29,
     "metadata": {},
     "output_type": "execute_result"
    },
    {
     "data": {
      "image/png": "[encoded data removed]",
      "text/plain": [
       "<Figure size 640x480 with 1 Axes>"
      ]
     },
     "metadata": {},
     "output_type": "display_data"
    }
   ],
   "source": [
    "# distribution of sales by year\n",
    "\n",
    "plt.figure(figsize=(10,5))\n",
    "sns.countplot(x='year', data=data)"
   ]
  }
 ],
 "metadata": {
  "kernelspec": {
   "display_name": "3.13.7",
   "language": "python",
   "name": "python3"
  },
  "language_info": {
   "codemirror_mode": {
    "name": "ipython",
    "version": 3
   },
   "file_extension": ".py",
   "mimetype": "text/x-python",
   "name": "python",
   "nbconvert_exporter": "python",
   "pygments_lexer": "ipython3",
   "version": "3.13.7"
  }
 },
 "nbformat": 4,
 "nbformat_minor": 5
}
